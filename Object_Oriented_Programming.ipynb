{
  "nbformat": 4,
  "nbformat_minor": 0,
  "metadata": {
    "colab": {
      "provenance": [],
      "mount_file_id": "1RQ5uvuwFEsLUoisL-aWSYvP4oxoMZ2cZ",
      "authorship_tag": "ABX9TyM/IvxvpX9NTFu1ddndEFWL",
      "include_colab_link": true
    },
    "kernelspec": {
      "name": "python3",
      "display_name": "Python 3"
    },
    "language_info": {
      "name": "python"
    }
  },
  "cells": [
    {
      "cell_type": "markdown",
      "metadata": {
        "id": "view-in-github",
        "colab_type": "text"
      },
      "source": [
        "<a href=\"https://colab.research.google.com/github/Ghifariezra/object-oriented-programming/blob/main/Object_Oriented_Programming.ipynb\" target=\"_parent\"><img src=\"https://colab.research.google.com/assets/colab-badge.svg\" alt=\"Open In Colab\"/></a>"
      ]
    },
    {
      "cell_type": "markdown",
      "source": [
        "# ***Class Book***"
      ],
      "metadata": {
        "id": "ltCMOPsARkcG"
      }
    },
    {
      "cell_type": "code",
      "source": [
        "class Book():\n",
        "    def __init__(self, title: str, author: str, available_copies: int):\n",
        "        self.title = title\n",
        "        self.author = author\n",
        "        self.available_copies = available_copies\n",
        "\n",
        "    # Display the borrower's history\n",
        "    def checkout_book(self, by):\n",
        "        checkout_by_user = by.private_library['Books']['Available Copies']\n",
        "\n",
        "        if checkout_by_user >= 0:\n",
        "            self.available_copies -= checkout_by_user\n",
        "\n",
        "            print(f'\\n(From Book) Update Stock;\\n'\n",
        "                  f'Book: {self.title}\\n'\n",
        "                  f'Author: {self.author}\\n'\n",
        "                  f'Available Copies: {self.available_copies}')\n",
        "\n",
        "            print(f'\\n(From Book) Checkout By;\\n'\n",
        "                  f'ID: {by.id}\\n'\n",
        "                  f'Name: {by.name}\\n'\n",
        "                  f'Return Periode: {date_now} - {MATURES_NEW}')\n",
        "\n",
        "    # Display the return history\n",
        "    def return_book(self, returned_by):\n",
        "        if self.title == returned_by.private_library['Books']['Title']:\n",
        "            book_from_user = returned_by.private_library['Books']['Title']\n",
        "            author_from_user = returned_by.private_library['Books']['Author']\n",
        "\n",
        "            copies_from_user = returned_by.private_library['Books']['Available Copies']\n",
        "\n",
        "            self.available_copies += copies_from_user\n",
        "\n",
        "            print(f'\\n(From Book) Returned By;\\n'\n",
        "                  f'ID: {returned_by.id}\\n'\n",
        "                  f'Name: {returned_by.name}\\n'\n",
        "                  f'Returned Date: {RETURTN_DATE_NEW}\\n'\n",
        "                  f'\\n(From Book) Books Borrowed;\\n'\n",
        "                  f'Book: {book_from_user}\\n'\n",
        "                  f'Author: {author_from_user}\\n'\n",
        "                  f'Available Copies: {self.available_copies}')\n",
        "\n",
        "        else:\n",
        "            print('Sorry, the book you borrowed is not suitable.')\n"
      ],
      "metadata": {
        "id": "o4hDnkXoR0-C"
      },
      "execution_count": null,
      "outputs": []
    },
    {
      "cell_type": "markdown",
      "source": [
        "# **Class Library**"
      ],
      "metadata": {
        "id": "nzVpt92xeJok"
      }
    },
    {
      "cell_type": "code",
      "source": [
        "class Library():\n",
        "    def __init__(self):\n",
        "        # Create Shelves for Books\n",
        "        self.listings_books = []\n",
        "        self.listings_author = []\n",
        "        self.listings_available_copies = []\n",
        "\n",
        "        self.library = {'Books': {\n",
        "            'Title': self.listings_books,\n",
        "            'Author': self.listings_author,\n",
        "            'Available Copies': self.listings_available_copies\n",
        "        }}\n",
        "\n",
        "        # Initialization detail Books\n",
        "        self.title_in_library = self.library['Books']['Title']\n",
        "        self.author_in_library = self.library['Books']['Author']\n",
        "        self.available_copies_in_library = self.library['Books']['Available Copies']\n",
        "\n",
        "    # Adding books to the library.\n",
        "    def add_book(self, book):\n",
        "        self.listings_books.append(book.title)\n",
        "        self.listings_author.append(book.author)\n",
        "        self.listings_available_copies.append(book.available_copies)\n",
        "\n",
        "        print(f'(From Libary) Successfully added books to the Library;\\n'\n",
        "              f'Book: {self.title_in_library[0]}\\n'\n",
        "              f'Author: {self.author_in_library[0]}\\n'\n",
        "              f'Available Copies: {self.available_copies_in_library[0]}')\n",
        "\n",
        "    # Show Display in Library\n",
        "    def display_available_books(self):\n",
        "        print(f'\\n(From Libary) Display Library;\\n'\n",
        "              f'Books: {self.title_in_library[0]}\\n'\n",
        "              f'Author: {self.author_in_library[0]}\\n'\n",
        "              f'Available: {self.available_copies_in_library[0]}')\n",
        "\n",
        "    # Display search by author name\n",
        "    def search_books(self, author):\n",
        "        found = False\n",
        "        for search in range(len(self.author_in_library)):\n",
        "            if author.lower() == self.author_in_library[search].lower():\n",
        "                print(f'\\n(From Libary) Search History;\\n'\n",
        "                      f'Books: {self.title_in_library[search]}\\n'\n",
        "                      f'Author: {self.author_in_library[search]}\\n'\n",
        "                      f'Available: {self.available_copies_in_library[search]}')\n",
        "\n",
        "                found = True\n",
        "                break\n",
        "\n",
        "        if not found:\n",
        "            print('Sorry, the book you are looking for was not found.')\n"
      ],
      "metadata": {
        "id": "ATkX2TZYeSMa"
      },
      "execution_count": null,
      "outputs": []
    },
    {
      "cell_type": "markdown",
      "source": [
        "# **Class User**"
      ],
      "metadata": {
        "id": "AVM3QRlNeejm"
      }
    },
    {
      "cell_type": "code",
      "source": [
        "class User():\n",
        "    def __init__(self, name: str, library_id: str, library):\n",
        "        self.name = name\n",
        "        self.id = library_id\n",
        "        self.private_library = {}\n",
        "        self.outdoor_library = library['Books']\n",
        "\n",
        "    # Checking for the Book & Checkout\n",
        "    def checkout_book(self, book_title, book):\n",
        "        checkout_user = 1\n",
        "\n",
        "        for check_outdoor_library in range(len(self.outdoor_library['Title'])):\n",
        "            if book_title.title() == self.outdoor_library['Title'][check_outdoor_library]:\n",
        "                # print(self.outdoor_library['Title'][check_outdoor_library])\n",
        "                if book_title.lower() == book.title.lower():\n",
        "                    self.outdoor_library['Available Copies'][check_outdoor_library] -= 1\n",
        "\n",
        "                    print(f'\\n(From User) Checkout Book;\\n'\n",
        "                          f'Book: {book.title}\\n'\n",
        "                          f'Author: {book.author}\\n'\n",
        "                          f'Available Copies: {checkout_user}')\n",
        "\n",
        "                    self.private_library.update({'Books': {'Title': book.title,\n",
        "                                                           'Author': book.author,\n",
        "                                                           'Available Copies': checkout_user}\n",
        "                                                 }\n",
        "                                                )\n",
        "\n",
        "                    print(f'Checkout Success.')\n",
        "\n",
        "            else:\n",
        "                print('Sorry, the book you want to borrow is not available.')\n",
        "\n",
        "    # Returning borrowed books\n",
        "    def return_book(self, returned_book):\n",
        "        name_book = self.private_library['Books']['Title']\n",
        "        author_book = self.private_library['Books']['Author']\n",
        "        available_copies_book = self.private_library['Books']['Available Copies']\n",
        "\n",
        "        if name_book.lower() == returned_book.title.lower():\n",
        "            available_copies_book -= 1\n",
        "\n",
        "            print(f'\\n(From User) Book successfully returned;\\n'\n",
        "                  f'Book: {name_book}\\n'\n",
        "                  f'Author: {author_book}\\n'\n",
        "                  f'Copies: {available_copies_book}')\n",
        "\n",
        "\n",
        "\n",
        "    # Show borrowed message display\n",
        "    def display_checked_out_books(self):\n",
        "        title = self.private_library['Books']['Title']\n",
        "        author = self.private_library['Books']['Author']\n",
        "        copies = self.private_library['Books']['Available Copies']\n",
        "        print(f'\\n(From User) Display Private Library;\\n'\n",
        "              f'Book: {title}\\n'\n",
        "              f'Author: {author}\\n'\n",
        "              f'Available Copies: {copies}')\n"
      ],
      "metadata": {
        "id": "wVl3uwjWehbl"
      },
      "execution_count": null,
      "outputs": []
    },
    {
      "cell_type": "markdown",
      "source": [
        "## **Creating time for due dates**"
      ],
      "metadata": {
        "id": "Ui9iHTNvepBr"
      }
    },
    {
      "cell_type": "code",
      "source": [
        "import datetime\n",
        "\n",
        "date = datetime.datetime.now()\n",
        "date_now = date.strftime('%d-%m-%Y')\n",
        "\n",
        "date_now_datetime = datetime.datetime.strptime(date_now, '%d-%m-%Y')\n",
        "return_date = date_now_datetime + datetime.timedelta(days=2)\n",
        "matures = date_now_datetime + datetime.timedelta(days=3)\n",
        "\n",
        "RETURTN_DATE_NEW = return_date.strftime('%d-%m-%Y')\n",
        "MATURES_NEW = matures.strftime('%d-%m-%Y')"
      ],
      "metadata": {
        "id": "x0sRYBmTe4Bw"
      },
      "execution_count": null,
      "outputs": []
    },
    {
      "cell_type": "markdown",
      "source": [
        "# **Initialize: Title, Writer and Available Copies**"
      ],
      "metadata": {
        "id": "lXybpvY9fOId"
      }
    },
    {
      "cell_type": "code",
      "source": [
        "TITLE = 'Harry Potter'\n",
        "WRITER = 'J.K Rowling'\n",
        "COPY = 250"
      ],
      "metadata": {
        "id": "F3_Exm3-f7QL"
      },
      "execution_count": null,
      "outputs": []
    },
    {
      "cell_type": "markdown",
      "source": [
        "# **Add Book to Library**"
      ],
      "metadata": {
        "id": "J1J0S-NrgC4z"
      }
    },
    {
      "cell_type": "code",
      "source": [
        "# Create Book Detail\n",
        "harry_potter = Book(title=TITLE, author=WRITER, available_copies=COPY)\n",
        "\n",
        "# Add Book to Library\n",
        "my_library = Library()\n",
        "my_library.add_book(book=harry_potter)"
      ],
      "metadata": {
        "colab": {
          "base_uri": "https://localhost:8080/"
        },
        "id": "tb1rL1IMf-tr",
        "outputId": "61acd6ce-3915-4c16-e79f-b3191aa60d72"
      },
      "execution_count": null,
      "outputs": [
        {
          "output_type": "stream",
          "name": "stdout",
          "text": [
            "(From Libary) Successfully added books to the Library;\n",
            "Book: Harry Potter\n",
            "Author: J.K Rowling\n",
            "Available Copies: 250\n"
          ]
        }
      ]
    },
    {
      "cell_type": "markdown",
      "source": [
        "# **Checkout Book By class User**"
      ],
      "metadata": {
        "id": "woahR9uegSvf"
      }
    },
    {
      "cell_type": "code",
      "source": [
        "# Create User for Interaction\n",
        "audrey = User(name='Audry', library_id='230690', library=my_library.library)\n",
        "\n",
        "# Checkout with Return Periode\n",
        "audrey.checkout_book(book_title=TITLE, book=harry_potter)\n",
        "harry_potter.checkout_book(by=audrey)"
      ],
      "metadata": {
        "colab": {
          "base_uri": "https://localhost:8080/"
        },
        "id": "T4zjDMGxgS68",
        "outputId": "35be325d-8698-4cc6-ffe9-3c3c4af395fd"
      },
      "execution_count": null,
      "outputs": [
        {
          "output_type": "stream",
          "name": "stdout",
          "text": [
            "\n",
            "(From User) Checkout Book;\n",
            "Book: Harry Potter\n",
            "Author: J.K Rowling\n",
            "Available Copies: 1\n",
            "Checkout Success.\n",
            "\n",
            "(From Book) Update Stock;\n",
            "Book: Harry Potter\n",
            "Author: J.K Rowling\n",
            "Available Copies: 249\n",
            "\n",
            "(From Book) Checkout By;\n",
            "ID: 230690\n",
            "Name: Audry\n",
            "Return Periode: 24-10-2023 - 27-10-2023\n"
          ]
        }
      ]
    },
    {
      "cell_type": "markdown",
      "source": [
        "# **Search Book by Author**"
      ],
      "metadata": {
        "id": "w9ZBlOv_g-xi"
      }
    },
    {
      "cell_type": "code",
      "source": [
        "# Display Library and Search Book by Writer.\n",
        "my_library.search_books(author=WRITER)\n",
        "my_library.display_available_books()\n"
      ],
      "metadata": {
        "colab": {
          "base_uri": "https://localhost:8080/"
        },
        "id": "tUT7zfWKg_B9",
        "outputId": "c5765100-c3d3-4e31-e21a-c9f7eea72a91"
      },
      "execution_count": null,
      "outputs": [
        {
          "output_type": "stream",
          "name": "stdout",
          "text": [
            "\n",
            "(From Libary) Search History;\n",
            "Books: Harry Potter\n",
            "Author: J.K Rowling\n",
            "Available: 249\n",
            "\n",
            "(From Libary) Display Library;\n",
            "Books: Harry Potter\n",
            "Author: J.K Rowling\n",
            "Available: 249\n"
          ]
        }
      ]
    },
    {
      "cell_type": "markdown",
      "source": [
        "# **Show Display Checkout Book by User**"
      ],
      "metadata": {
        "id": "WlfKyJIRhVaq"
      }
    },
    {
      "cell_type": "code",
      "source": [
        "# Show book borrowed\n",
        "audrey.display_checked_out_books()"
      ],
      "metadata": {
        "colab": {
          "base_uri": "https://localhost:8080/"
        },
        "id": "8BOGXqeIhVl_",
        "outputId": "d613f432-b155-4c2a-a7bb-22ba5d06266b"
      },
      "execution_count": null,
      "outputs": [
        {
          "output_type": "stream",
          "name": "stdout",
          "text": [
            "\n",
            "(From User) Display Private Library;\n",
            "Book: Harry Potter\n",
            "Author: J.K Rowling\n",
            "Available Copies: 1\n"
          ]
        }
      ]
    },
    {
      "cell_type": "markdown",
      "source": [
        "# **Returned Book Borrowed**"
      ],
      "metadata": {
        "id": "fX6tn41xh75X"
      }
    },
    {
      "cell_type": "code",
      "source": [
        "# Returned Book\n",
        "audrey.return_book(returned_book=harry_potter)\n",
        "harry_potter.return_book(returned_by=audrey)"
      ],
      "metadata": {
        "colab": {
          "base_uri": "https://localhost:8080/"
        },
        "id": "QwkJCZoBh8B1",
        "outputId": "c069b955-a2f1-4695-93b4-66b6ac112113"
      },
      "execution_count": null,
      "outputs": [
        {
          "output_type": "stream",
          "name": "stdout",
          "text": [
            "\n",
            "(From User) Book successfully returned;\n",
            "Book: Harry Potter\n",
            "Author: J.K Rowling\n",
            "Copies: 0\n",
            "\n",
            "(From Book) Returned By;\n",
            "ID: 230690\n",
            "Name: Audry\n",
            "Returned Date: 26-10-2023\n",
            "\n",
            "(From Book) Books Borrowed;\n",
            "Book: Harry Potter\n",
            "Author: J.K Rowling\n",
            "Available Copies: 250\n"
          ]
        }
      ]
    }
  ]
}